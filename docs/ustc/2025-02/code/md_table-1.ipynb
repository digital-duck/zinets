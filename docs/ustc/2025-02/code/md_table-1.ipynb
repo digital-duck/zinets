{
 "cells": [
  {
   "cell_type": "code",
   "execution_count": 130,
   "metadata": {},
   "outputs": [],
   "source": [
    "s  = \"\"\"  \n",
    "\n",
    "  **Formula**    **Meaning**            **Natural Insight**                                    **Pinyin**\n",
    "  -------------- ---------------------- ------------------------------------------------------ ------------\n",
    "  亻 + 乍 = 作   to make, to do         Direct human productive activity                       zuò\n",
    "  日 + 乍 = 昨   yesterday              Time transformed through work completed                zuó\n",
    "  乍 + 心 = 怎   how?                   Mental process of problem-solving                      zěn\n",
    "  火 + 乍 = 炸   to explode, to fry     Energy transformation in different scales and shapes   zhà\n",
    "  讠 + 乍 = 诈   to deceive             Misuse of effort in communication                      zhà\n",
    "  口 + 乍 = 咋   how                    Verbal expression of questioning process               zǎ\n",
    "  酉 + 乍 = 酢   vinegar                Chemical transformation through work                   zuò\n",
    "  ⺮ + 乍 = 笮   to press               Physical work applied to materials                     zé\n",
    "  穴 + 乍 = 窄   to hallow, to narrow   Spatial transformation through constraint              zhǎi\n",
    "\"\"\""
   ]
  },
  {
   "cell_type": "code",
   "execution_count": 131,
   "metadata": {},
   "outputs": [],
   "source": [
    "s  = \"\"\"  \n",
    "\n",
    "**Formula**         **Meaning**      **Natural Insight**                                                                                                                                         **Pinyin**\n",
    "  ------------------- ---------------- ----------------------------------------------------------------------------------------------------------------------------------------------------------- ------------\n",
    "  日 + 月 = 明        bright           Sun and moon as primary celestial light sources                                                                                                             míng\n",
    "  日 + 正 = 是        to be/truth      Overhead sun casts no shadows, revealing true form                                                                                                          shì\n",
    "  知 + 日 = 智        wisdom           The sun radiates energy without depletion, demonstrating how true wisdom transcends accumulated knowledge to understand principles of sustainable benefit   zhì\n",
    "  日 + 日 + 日 = 晶   crystal/bright   Intensification of light/clarity through repetition                                                                                                         jīng\n",
    "  门 + 日 = 间        space/interval   Light revealing space between door frames                                                                                                                   jiān\n",
    "  日 + 寸 = 时        time             Sun's shadow measure in ancient timekeeping                                                                                                                 shí\n",
    "  日 + 生 = 星        star             Stars as celestial light producers                                                                                                                          xīng\n",
    "  丿 + 日 = 白        white            Pure light emanating from sun                                                                                                                               bái\n",
    "  日 + 一 = 旦        dawn             Sun rising above horizon                                                                                                                                    dàn\n",
    "  九 + 日 = 旭        rising sun       Multiple rays of morning sunlight                                                                                                                           xù\n",
    "  日 + 十 = 早        early            Sun above treetops at dawn                                                                                                                                  zǎo\n",
    "  日 + 干 = 旱        drought          Intense sun causing dryness                                                                                                                                 hàn\n",
    "  三 + 八 + 日 = 春   spring           Sunlight causing seeds to break soil, implying the Spring season                                                                                            chūn           zhǎi\n",
    "\"\"\""
   ]
  },
  {
   "cell_type": "code",
   "execution_count": 132,
   "metadata": {},
   "outputs": [],
   "source": [
    "s = \"\"\" \n",
    "\n",
    "  **Formula**    **Meaning**              **Natural Insight**                                        **Pinyin**\n",
    "  -------------- ------------------------ ---------------------------------------------------------- ------------\n",
    "  气 + 坙 = 氢   hydrogen                 Simplest element with single proton core                   qīng\n",
    "  艹 + 坙 = 茎   plant stem               Essential structural support maintaining plant integrity   jīng\n",
    "  纟 + 坙 = 经   classic texts/meridian   Core texts that weave through cultural/anatomical fabric   jīng\n",
    "  坙 + 力 = 劲   strength/vigor           How core fibers generate physical power and strength       jìn\n",
    "  坙 + 页 = 颈   neck                     Crucial connecting structure between body and brain        jǐng\n",
    "  彳 + 坙 = 径   path/radius              Most direct route from center to periphery                 jìng\n",
    "  车 + 坙 = 轻   light-weight             Structural efficiency through essential components         qīng\n",
    "\n",
    "\"\"\""
   ]
  },
  {
   "cell_type": "code",
   "execution_count": 133,
   "metadata": {},
   "outputs": [
    {
     "name": "stderr",
     "output_type": "stream",
     "text": [
      "<>:1: SyntaxWarning: invalid escape sequence '\\.'\n",
      "<>:1: SyntaxWarning: invalid escape sequence '\\.'\n",
      "C:\\Users\\p2p2l\\AppData\\Local\\Temp\\ipykernel_6388\\3938503157.py:1: SyntaxWarning: invalid escape sequence '\\.'\n",
      "  s = \"\"\"\n"
     ]
    }
   ],
   "source": [
    "s = \"\"\" \n",
    "\n",
    "  **Formula**    **Meaning**                                                **Natural Insight**                                                                                        **Pinyin**\n",
    "  -------------- ---------------------------------------------------------- ---------------------------------------------------------------------------------------------------------- ------------\n",
    "  亻 + 禺 = 偶   1\\. couple, partner; 2. chance, accident; 3. even number   Captures both intentional pairing and chance encounters, while \\\"even numbers\\\" suggests balanced states   ǒu\n",
    "  宀 + 禺 = 寓   dwelling, metaphor                                         Physical space enabling connections                                                                        yù\n",
    "  辶 + 禺 = 遇   encounter, meet                                            Dynamic interaction through movement                                                                       yù\n",
    "  禺 + 心 = 愚   inability to connect                                       Cognitive dimension of connection                                                                          yú\n",
    "  阝 + 禺 = 隅   corner, intersection                                       Spatial manifestation of joining                                                                           yú\n",
    "  耒 + 禺 = 耦   linked roots                                               Natural systems demonstrating connection                                                                   ǒu\n",
    "\n",
    "\n",
    "\"\"\""
   ]
  },
  {
   "cell_type": "code",
   "execution_count": 134,
   "metadata": {},
   "outputs": [],
   "source": [
    "s = \"\"\" \n",
    "**Formula**    **Meaning**                           **Natural Insight**                                                                                                                                                                                  **Pinyin**\n",
    "  -------------- ------------------------------------- ---------------------------------------------------------------------------------------------------------------------------------------------------------------------------------------------------- ------------\n",
    "  日 + 寺 = 時   time as cosmic law                    Temple's ritualistic measurement of sun's movement reveals time as an inescapable cosmic order that governs all existence - a fundamental principle that commands universal respect and submission   shí\n",
    "  牜 + 寺 = 特   special / extraordinary               Cattle as precious agricultural asset offered to temple represents highest form of ritual sacrifice and distinction                                                                                  tè\n",
    "  亻 + 寺 = 侍   to serve with ritual propriety        Models service relationships on temple's hierarchical spatial organization of inner/outer courts                                                                                                     shì\n",
    "  扌 + 寺 = 持   to uphold / maintain with stability   Reflects temple architecture's balanced distribution of structural forces and sustained equilibrium                                                                                                  chí\n",
    "  彳 + 寺 = 待   to await at proper position           Like prescribed positions in temple processions, represents disciplined positioning in space-time                                                                                                    dài\n",
    "  ⺮ + 寺 = 等   ordered ranking / classification      Mirrors temple architecture's clear demarcation of sacred spaces by rank and function                                                                                                                děng\n",
    "  山 + 寺 = 峙   to tower with dignity                 Embodies temple pagoda's vertical presence as symbol of spiritual and moral elevation                                                                                                                zhì\n",
    "  忄 + 寺 = 恃   to depend upon with confidence        Like temple foundations, represents reliable structural support extended to mental realm                                                                                                             shì\n",
    "  讠 + 寺 = 诗   poetry as sacred architecture         Words arranged with temple-like precision to create spaces of transcendent meaning                                                                                                                   shī\n",
    "\n",
    "\n",
    "\n",
    "\"\"\""
   ]
  },
  {
   "cell_type": "code",
   "execution_count": 135,
   "metadata": {},
   "outputs": [],
   "source": [
    "s = \"\"\" \n",
    "  **Formula**         **Meaning**          **Natural Insight**                                                                   **Pinyin**\n",
    "  ------------------- -------------------- ------------------------------------------------------------------------------------- ------------\n",
    "  女 + 子 = 好        good, well, fine     Child with mother represents fundamental goodness                                     hǎo\n",
    "  耂 + 子 = 孝        filial piety         Elder above child shows respect and care                                              xiào\n",
    "  子 + 小 = 孙        grandson             Small child represents generational continuation                                      sūn\n",
    "  木 + 子 = 李        plum tree            Fruit as nature's offspring                                                           lǐ\n",
    "  米 + 子 = 籽        seed                 Grain's offspring, agricultural reproduction                                          zǐ\n",
    "  禾 + 子 = 季        season               Crop cycle marked by growth stages                                                    jì\n",
    "  宀 + 子 = 字        character            Child under roof represents nurturing of knowledge                                    zì\n",
    "  小 + 冖 + 子 = 学   to learn, to study   Child (子) under shelter (冖) starting small (小) captures the essence of education   xué\n",
    "\n",
    "\"\"\""
   ]
  },
  {
   "cell_type": "code",
   "execution_count": 136,
   "metadata": {},
   "outputs": [],
   "source": [
    "data = [i.strip() for i in s.split(\"\\n\") if i.strip()]"
   ]
  },
  {
   "cell_type": "code",
   "execution_count": 137,
   "metadata": {},
   "outputs": [
    {
     "data": {
      "text/plain": [
       "['**Formula**         **Meaning**          **Natural Insight**                                                                   **Pinyin**',\n",
       " '------------------- -------------------- ------------------------------------------------------------------------------------- ------------',\n",
       " '女 + 子 = 好        good, well, fine     Child with mother represents fundamental goodness                                     hǎo',\n",
       " '耂 + 子 = 孝        filial piety         Elder above child shows respect and care                                              xiào',\n",
       " '子 + 小 = 孙        grandson             Small child represents generational continuation                                      sūn',\n",
       " \"木 + 子 = 李        plum tree            Fruit as nature's offspring                                                           lǐ\",\n",
       " \"米 + 子 = 籽        seed                 Grain's offspring, agricultural reproduction                                          zǐ\",\n",
       " '禾 + 子 = 季        season               Crop cycle marked by growth stages                                                    jì',\n",
       " '宀 + 子 = 字        character            Child under roof represents nurturing of knowledge                                    zì',\n",
       " '小 + 冖 + 子 = 学   to learn, to study   Child (子) under shelter (冖) starting small (小) captures the essence of education   xué']"
      ]
     },
     "execution_count": 137,
     "metadata": {},
     "output_type": "execute_result"
    }
   ],
   "source": [
    "data "
   ]
  },
  {
   "cell_type": "code",
   "execution_count": 138,
   "metadata": {},
   "outputs": [
    {
     "data": {
      "text/plain": [
       "['Formula', 'Meaning', 'Natural Insight', 'Pinyin']"
      ]
     },
     "execution_count": 138,
     "metadata": {},
     "output_type": "execute_result"
    }
   ],
   "source": [
    "header = [i.strip() for i in data[0].split(\"**\") if i.strip()]\n",
    "header"
   ]
  },
  {
   "cell_type": "code",
   "execution_count": 139,
   "metadata": {},
   "outputs": [
    {
     "data": {
      "text/plain": [
       "['拆字', '字意', '解释', '拼音']"
      ]
     },
     "execution_count": 139,
     "metadata": {},
     "output_type": "execute_result"
    }
   ],
   "source": [
    "header_dict = {'Formula':'拆字', \n",
    "               'Meaning':'字意', \n",
    "               'Natural Insight':'解释', \n",
    "               'Pinyin':'拼音'}\n",
    "header = [header_dict[i] for i in header]\n",
    "header"
   ]
  },
  {
   "cell_type": "code",
   "execution_count": 140,
   "metadata": {},
   "outputs": [],
   "source": [
    "for d in data: \n",
    "    if 5*\"-\" in d: break"
   ]
  },
  {
   "cell_type": "code",
   "execution_count": 141,
   "metadata": {},
   "outputs": [
    {
     "data": {
      "text/plain": [
       "['-------------------',\n",
       " '--------------------',\n",
       " '-------------------------------------------------------------------------------------',\n",
       " '------------']"
      ]
     },
     "execution_count": 141,
     "metadata": {},
     "output_type": "execute_result"
    }
   ],
   "source": [
    "seps = d.split()\n",
    "seps"
   ]
  },
  {
   "cell_type": "code",
   "execution_count": 142,
   "metadata": {},
   "outputs": [],
   "source": [
    "l = [len(i) for i in seps]"
   ]
  },
  {
   "cell_type": "code",
   "execution_count": 143,
   "metadata": {},
   "outputs": [],
   "source": [
    "r = []\n",
    "for i in range(len(l)):\n",
    "    if i == 0:\n",
    "        bound_lower = 0\n",
    "        bound_upper = l[0] -2 \n",
    "    else:\n",
    "        bound_lower = bound_upper\n",
    "        bound_upper = bound_lower + l[i]\n",
    "    r.append((bound_lower, bound_upper))\n"
   ]
  },
  {
   "cell_type": "code",
   "execution_count": 144,
   "metadata": {},
   "outputs": [
    {
     "data": {
      "text/plain": [
       "[(0, 17), (17, 37), (37, 122), (122, 134)]"
      ]
     },
     "execution_count": 144,
     "metadata": {},
     "output_type": "execute_result"
    }
   ],
   "source": [
    "r"
   ]
  },
  {
   "cell_type": "markdown",
   "metadata": {},
   "source": [
    "'亻 + 乍 = 作   to make, to do         Direct human productive activity                       zuò',"
   ]
  },
  {
   "cell_type": "code",
   "execution_count": 145,
   "metadata": {},
   "outputs": [
    {
     "name": "stdout",
     "output_type": "stream",
     "text": [
      "'女 + 子 = 好'\n",
      "'good, well, fine'\n",
      "'Child with mother represents fundamental goodness'\n",
      "'hǎo'\n",
      "'耂 + 子 = 孝'\n",
      "'filial piety'\n",
      "'Elder above child shows respect and care'\n",
      "'xiào'\n",
      "'子 + 小 = 孙'\n",
      "'grandson'\n",
      "'Small child represents generational continuation'\n",
      "'sūn'\n",
      "'木 + 子 = 李'\n",
      "'plum tree'\n",
      "'Fruit as nature's offspring'\n",
      "'lǐ'\n",
      "'米 + 子 = 籽'\n",
      "'seed'\n",
      "'Grain's offspring, agricultural reproduction'\n",
      "'zǐ'\n",
      "'禾 + 子 = 季'\n",
      "'season'\n",
      "'Crop cycle marked by growth stages'\n",
      "'jì'\n",
      "'宀 + 子 = 字'\n",
      "'character'\n",
      "'Child under roof represents nurturing of knowledge'\n",
      "'zì'\n",
      "'小 + 冖 + 子 = 学   t'\n",
      "'o learn, to study'\n",
      "'Child (子) under shelter (冖) starting small (小) captures the essence of education   xu'\n",
      "'é'\n"
     ]
    }
   ],
   "source": [
    "rows = []\n",
    "rows.append(header)\n",
    "rows.append(seps)\n",
    "for line1 in data[2:]:\n",
    "    row = []\n",
    "    for x in r: \n",
    "        val = line1[x[0]:x[1]].strip()\n",
    "        print(f\"'{val}'\")\n",
    "        row.append(val)\n",
    "    rows.append(row)"
   ]
  },
  {
   "cell_type": "code",
   "execution_count": 146,
   "metadata": {},
   "outputs": [
    {
     "data": {
      "text/plain": [
       "[['拆字', '字意', '解释', '拼音'],\n",
       " ['-------------------',\n",
       "  '--------------------',\n",
       "  '-------------------------------------------------------------------------------------',\n",
       "  '------------'],\n",
       " ['女 + 子 = 好',\n",
       "  'good, well, fine',\n",
       "  'Child with mother represents fundamental goodness',\n",
       "  'hǎo'],\n",
       " ['耂 + 子 = 孝',\n",
       "  'filial piety',\n",
       "  'Elder above child shows respect and care',\n",
       "  'xiào'],\n",
       " ['子 + 小 = 孙',\n",
       "  'grandson',\n",
       "  'Small child represents generational continuation',\n",
       "  'sūn'],\n",
       " ['木 + 子 = 李', 'plum tree', \"Fruit as nature's offspring\", 'lǐ'],\n",
       " ['米 + 子 = 籽', 'seed', \"Grain's offspring, agricultural reproduction\", 'zǐ'],\n",
       " ['禾 + 子 = 季', 'season', 'Crop cycle marked by growth stages', 'jì'],\n",
       " ['宀 + 子 = 字',\n",
       "  'character',\n",
       "  'Child under roof represents nurturing of knowledge',\n",
       "  'zì'],\n",
       " ['小 + 冖 + 子 = 学   t',\n",
       "  'o learn, to study',\n",
       "  'Child (子) under shelter (冖) starting small (小) captures the essence of education   xu',\n",
       "  'é']]"
      ]
     },
     "execution_count": 146,
     "metadata": {},
     "output_type": "execute_result"
    }
   ],
   "source": [
    "rows"
   ]
  },
  {
   "cell_type": "code",
   "execution_count": 147,
   "metadata": {},
   "outputs": [],
   "source": [
    "def gen_markdown_table(rows):\n",
    "    md_txt = []\n",
    "    for row in rows:\n",
    "        md_txt.append(\"| \" + \" | \".join(row) + \" |\")\n",
    "    return \"\\n\".join(md_txt)"
   ]
  },
  {
   "cell_type": "code",
   "execution_count": 148,
   "metadata": {},
   "outputs": [
    {
     "name": "stdout",
     "output_type": "stream",
     "text": [
      "| 拆字 | 字意 | 解释 | 拼音 |\n",
      "| ------------------- | -------------------- | ------------------------------------------------------------------------------------- | ------------ |\n",
      "| 女 + 子 = 好 | good, well, fine | Child with mother represents fundamental goodness | hǎo |\n",
      "| 耂 + 子 = 孝 | filial piety | Elder above child shows respect and care | xiào |\n",
      "| 子 + 小 = 孙 | grandson | Small child represents generational continuation | sūn |\n",
      "| 木 + 子 = 李 | plum tree | Fruit as nature's offspring | lǐ |\n",
      "| 米 + 子 = 籽 | seed | Grain's offspring, agricultural reproduction | zǐ |\n",
      "| 禾 + 子 = 季 | season | Crop cycle marked by growth stages | jì |\n",
      "| 宀 + 子 = 字 | character | Child under roof represents nurturing of knowledge | zì |\n",
      "| 小 + 冖 + 子 = 学   t | o learn, to study | Child (子) under shelter (冖) starting small (小) captures the essence of education   xu | é |\n"
     ]
    }
   ],
   "source": [
    "print(gen_markdown_table(rows))"
   ]
  },
  {
   "cell_type": "code",
   "execution_count": null,
   "metadata": {},
   "outputs": [],
   "source": []
  }
 ],
 "metadata": {
  "kernelspec": {
   "display_name": "zinet",
   "language": "python",
   "name": "python3"
  },
  "language_info": {
   "codemirror_mode": {
    "name": "ipython",
    "version": 3
   },
   "file_extension": ".py",
   "mimetype": "text/x-python",
   "name": "python",
   "nbconvert_exporter": "python",
   "pygments_lexer": "ipython3",
   "version": "3.12.5"
  }
 },
 "nbformat": 4,
 "nbformat_minor": 2
}
