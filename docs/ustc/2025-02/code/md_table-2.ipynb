{
 "cells": [
  {
   "cell_type": "code",
   "execution_count": 46,
   "metadata": {},
   "outputs": [],
   "source": [
    "s = \"\"\" \n",
    "  **Category**           **Compounds**                  **Semantic Extension**   **Examples**\n",
    "  ---------------------- ------------------------------ ------------------------ -------------------------------------------------\n",
    "  Human Relations        父子, 子女, 子孙, 弟子         Core family ties         father-and-son, children, descendants, disciple\n",
    "  Honorific Terms        老子, 孔子, 墨子, 孙子, 君子   Respect and wisdom       Master, great teachers, gentlement\n",
    "  Scientific Objects     量子, 光子, 原子, 电子         Fundamental particles    Quantum, photon, atom, electron\n",
    "  Mathematical Objects   因子, 子集, 子空间             Math concepts            factor, subset, sub-space\n",
    "  Natural Elements       种子, 脑子, 芽子, 子宫         Biological growth        Seed, brain, sprout, womb\n",
    "  Animals                狮子, 兔子, 蚊子               living objects           Lion, rabbit, mosquito\n",
    "  Tools/Objects          筷子, 梯子, 桌子, 房子, 子弹   Functional items         Chopsticks, ladder, table, house, bullet\n",
    "  Time Concepts          日子, 子时, 甲子               Temporal cycles          Days, midnight hour, 60-year cycle\n",
    "  Aggressor              日本鬼子, 毛子                 Nicknames                Japanese soldier, northern invader\n",
    "\"\"\""
   ]
  },
  {
   "cell_type": "code",
   "execution_count": 47,
   "metadata": {},
   "outputs": [],
   "source": [
    "data = [i.strip() for i in s.split(\"\\n\") if i.strip()]"
   ]
  },
  {
   "cell_type": "code",
   "execution_count": 48,
   "metadata": {},
   "outputs": [
    {
     "data": {
      "text/plain": [
       "['**Category**           **Compounds**                  **Semantic Extension**   **Examples**',\n",
       " '---------------------- ------------------------------ ------------------------ -------------------------------------------------',\n",
       " 'Human Relations        父子, 子女, 子孙, 弟子         Core family ties         father-and-son, children, descendants, disciple',\n",
       " 'Honorific Terms        老子, 孔子, 墨子, 孙子, 君子   Respect and wisdom       Master, great teachers, gentlement',\n",
       " 'Scientific Objects     量子, 光子, 原子, 电子         Fundamental particles    Quantum, photon, atom, electron',\n",
       " 'Mathematical Objects   因子, 子集, 子空间             Math concepts            factor, subset, sub-space',\n",
       " 'Natural Elements       种子, 脑子, 芽子, 子宫         Biological growth        Seed, brain, sprout, womb',\n",
       " 'Animals                狮子, 兔子, 蚊子               living objects           Lion, rabbit, mosquito',\n",
       " 'Tools/Objects          筷子, 梯子, 桌子, 房子, 子弹   Functional items         Chopsticks, ladder, table, house, bullet',\n",
       " 'Time Concepts          日子, 子时, 甲子               Temporal cycles          Days, midnight hour, 60-year cycle',\n",
       " 'Aggressor              日本鬼子, 毛子                 Nicknames                Japanese soldier, northern invader']"
      ]
     },
     "execution_count": 48,
     "metadata": {},
     "output_type": "execute_result"
    }
   ],
   "source": [
    "data "
   ]
  },
  {
   "cell_type": "code",
   "execution_count": 49,
   "metadata": {},
   "outputs": [
    {
     "data": {
      "text/plain": [
       "['Category', 'Compounds', 'Semantic Extension', 'Examples']"
      ]
     },
     "execution_count": 49,
     "metadata": {},
     "output_type": "execute_result"
    }
   ],
   "source": [
    "header = [i.strip() for i in data[0].split(\"**\") if i.strip()]\n",
    "header"
   ]
  },
  {
   "cell_type": "code",
   "execution_count": 50,
   "metadata": {},
   "outputs": [
    {
     "data": {
      "text/plain": [
       "['类别', '词组', '语义', '示例']"
      ]
     },
     "execution_count": 50,
     "metadata": {},
     "output_type": "execute_result"
    }
   ],
   "source": [
    "header_dict = {'Category':'类别', \n",
    "               'Compounds':'词组', \n",
    "               'Semantic Extension':'语义', \n",
    "               'Examples':'示例'}\n",
    "header = [header_dict[i] for i in header]\n",
    "header"
   ]
  },
  {
   "cell_type": "code",
   "execution_count": 51,
   "metadata": {},
   "outputs": [],
   "source": [
    "for d in data: \n",
    "    if 5*\"-\" in d: break"
   ]
  },
  {
   "cell_type": "code",
   "execution_count": 52,
   "metadata": {},
   "outputs": [
    {
     "data": {
      "text/plain": [
       "['----------------------',\n",
       " '------------------------------',\n",
       " '------------------------',\n",
       " '-------------------------------------------------']"
      ]
     },
     "execution_count": 52,
     "metadata": {},
     "output_type": "execute_result"
    }
   ],
   "source": [
    "seps = d.split()\n",
    "seps"
   ]
  },
  {
   "cell_type": "code",
   "execution_count": 53,
   "metadata": {},
   "outputs": [],
   "source": [
    "l = [len(i) for i in seps]"
   ]
  },
  {
   "cell_type": "code",
   "execution_count": 54,
   "metadata": {},
   "outputs": [],
   "source": [
    "r = []\n",
    "for i in range(len(l)):\n",
    "    if i == 0:\n",
    "        bound_lower = 0\n",
    "        bound_upper = l[0] -2 \n",
    "    else:\n",
    "        bound_lower = bound_upper - 4\n",
    "        bound_upper = bound_lower + l[i]\n",
    "    r.append((bound_lower, bound_upper))\n"
   ]
  },
  {
   "cell_type": "code",
   "execution_count": 55,
   "metadata": {},
   "outputs": [
    {
     "data": {
      "text/plain": [
       "[(0, 20), (16, 46), (42, 66), (62, 111)]"
      ]
     },
     "execution_count": 55,
     "metadata": {},
     "output_type": "execute_result"
    }
   ],
   "source": [
    "r"
   ]
  },
  {
   "cell_type": "markdown",
   "metadata": {},
   "source": [
    "'亻 + 乍 = 作   to make, to do         Direct human productive activity                       zuò',"
   ]
  },
  {
   "cell_type": "code",
   "execution_count": 56,
   "metadata": {},
   "outputs": [
    {
     "name": "stdout",
     "output_type": "stream",
     "text": [
      "'Human Relations'\n",
      "'父子, 子女, 子孙, 弟子'\n",
      "'Core family ties'\n",
      "'father-and-son, children, descendants, d'\n",
      "'Honorific Terms'\n",
      "'老子, 孔子, 墨子, 孙子, 君子   Re'\n",
      "'Respect and wisdom'\n",
      "'Master, great teachers, gentlement'\n",
      "'Scientific Objects'\n",
      "'ts     量子, 光子, 原子, 电子'\n",
      "'Fundamental particle'\n",
      "'icles    Quantum, photon, atom, electron'\n",
      "'Mathematical Objects'\n",
      "'ects   因子, 子集, 子空间'\n",
      "'Math concepts'\n",
      "'factor, subset, sub-space'\n",
      "'Natural Elements'\n",
      "'种子, 脑子, 芽子, 子宫'\n",
      "'Biological growth'\n",
      "'h        Seed, brain, sprout, womb'\n",
      "'Animals'\n",
      "'狮子, 兔子, 蚊子'\n",
      "'living objects'\n",
      "'Lion, rabbit, mosquito'\n",
      "'Tools/Objects'\n",
      "'筷子, 梯子, 桌子, 房子, 子弹   Fu'\n",
      "'Functional items'\n",
      "'Chopsticks, ladder, table, house, bullet'\n",
      "'Time Concepts'\n",
      "'日子, 子时, 甲子'\n",
      "'Temporal cycles'\n",
      "'s          Days, midnight hour, 60-year cycle'\n",
      "'Aggressor'\n",
      "'日本鬼子, 毛子'\n",
      "'Nicknames'\n",
      "'Japanese soldier, northern invader'\n"
     ]
    }
   ],
   "source": [
    "rows = []\n",
    "rows.append(header)\n",
    "rows.append(seps)\n",
    "for line1 in data[2:]:\n",
    "    row = []\n",
    "    for x in r: \n",
    "        val = line1[x[0]:x[1]].strip()\n",
    "        print(f\"'{val}'\")\n",
    "        row.append(val)\n",
    "    rows.append(row)"
   ]
  },
  {
   "cell_type": "code",
   "execution_count": 57,
   "metadata": {},
   "outputs": [
    {
     "data": {
      "text/plain": [
       "[['类别', '词组', '语义', '示例'],\n",
       " ['----------------------',\n",
       "  '------------------------------',\n",
       "  '------------------------',\n",
       "  '-------------------------------------------------'],\n",
       " ['Human Relations',\n",
       "  '父子, 子女, 子孙, 弟子',\n",
       "  'Core family ties',\n",
       "  'father-and-son, children, descendants, d'],\n",
       " ['Honorific Terms',\n",
       "  '老子, 孔子, 墨子, 孙子, 君子   Re',\n",
       "  'Respect and wisdom',\n",
       "  'Master, great teachers, gentlement'],\n",
       " ['Scientific Objects',\n",
       "  'ts     量子, 光子, 原子, 电子',\n",
       "  'Fundamental particle',\n",
       "  'icles    Quantum, photon, atom, electron'],\n",
       " ['Mathematical Objects',\n",
       "  'ects   因子, 子集, 子空间',\n",
       "  'Math concepts',\n",
       "  'factor, subset, sub-space'],\n",
       " ['Natural Elements',\n",
       "  '种子, 脑子, 芽子, 子宫',\n",
       "  'Biological growth',\n",
       "  'h        Seed, brain, sprout, womb'],\n",
       " ['Animals', '狮子, 兔子, 蚊子', 'living objects', 'Lion, rabbit, mosquito'],\n",
       " ['Tools/Objects',\n",
       "  '筷子, 梯子, 桌子, 房子, 子弹   Fu',\n",
       "  'Functional items',\n",
       "  'Chopsticks, ladder, table, house, bullet'],\n",
       " ['Time Concepts',\n",
       "  '日子, 子时, 甲子',\n",
       "  'Temporal cycles',\n",
       "  's          Days, midnight hour, 60-year cycle'],\n",
       " ['Aggressor', '日本鬼子, 毛子', 'Nicknames', 'Japanese soldier, northern invader']]"
      ]
     },
     "execution_count": 57,
     "metadata": {},
     "output_type": "execute_result"
    }
   ],
   "source": [
    "rows"
   ]
  },
  {
   "cell_type": "code",
   "execution_count": 58,
   "metadata": {},
   "outputs": [],
   "source": [
    "def gen_markdown_table(rows):\n",
    "    md_txt = []\n",
    "    for row in rows:\n",
    "        md_txt.append(\"| \" + \" | \".join(row) + \" |\")\n",
    "    return \"\\n\".join(md_txt)"
   ]
  },
  {
   "cell_type": "code",
   "execution_count": 59,
   "metadata": {},
   "outputs": [
    {
     "name": "stdout",
     "output_type": "stream",
     "text": [
      "| 类别 | 词组 | 语义 | 示例 |\n",
      "| ---------------------- | ------------------------------ | ------------------------ | ------------------------------------------------- |\n",
      "| Human Relations | 父子, 子女, 子孙, 弟子 | Core family ties | father-and-son, children, descendants, d |\n",
      "| Honorific Terms | 老子, 孔子, 墨子, 孙子, 君子   Re | Respect and wisdom | Master, great teachers, gentlement |\n",
      "| Scientific Objects | ts     量子, 光子, 原子, 电子 | Fundamental particle | icles    Quantum, photon, atom, electron |\n",
      "| Mathematical Objects | ects   因子, 子集, 子空间 | Math concepts | factor, subset, sub-space |\n",
      "| Natural Elements | 种子, 脑子, 芽子, 子宫 | Biological growth | h        Seed, brain, sprout, womb |\n",
      "| Animals | 狮子, 兔子, 蚊子 | living objects | Lion, rabbit, mosquito |\n",
      "| Tools/Objects | 筷子, 梯子, 桌子, 房子, 子弹   Fu | Functional items | Chopsticks, ladder, table, house, bullet |\n",
      "| Time Concepts | 日子, 子时, 甲子 | Temporal cycles | s          Days, midnight hour, 60-year cycle |\n",
      "| Aggressor | 日本鬼子, 毛子 | Nicknames | Japanese soldier, northern invader |\n"
     ]
    }
   ],
   "source": [
    "print(gen_markdown_table(rows))"
   ]
  },
  {
   "cell_type": "code",
   "execution_count": null,
   "metadata": {},
   "outputs": [],
   "source": []
  }
 ],
 "metadata": {
  "kernelspec": {
   "display_name": "zinet",
   "language": "python",
   "name": "python3"
  },
  "language_info": {
   "codemirror_mode": {
    "name": "ipython",
    "version": 3
   },
   "file_extension": ".py",
   "mimetype": "text/x-python",
   "name": "python",
   "nbconvert_exporter": "python",
   "pygments_lexer": "ipython3",
   "version": "3.12.5"
  }
 },
 "nbformat": 4,
 "nbformat_minor": 2
}
