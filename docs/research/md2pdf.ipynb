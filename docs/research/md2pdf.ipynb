{
 "cells": [
  {
   "cell_type": "code",
   "execution_count": 2,
   "id": "bb587b55",
   "metadata": {},
   "outputs": [
    {
     "name": "stdout",
     "output_type": "stream",
     "text": [
      "Requirement already satisfied: md2pdf in c:\\users\\p2p2l\\anaconda3\\envs\\zinet\\lib\\site-packages (1.0.1)\n",
      "Requirement already satisfied: markdown2 in c:\\users\\p2p2l\\anaconda3\\envs\\zinet\\lib\\site-packages (from md2pdf) (2.5.2)\n",
      "Requirement already satisfied: docopt in c:\\users\\p2p2l\\anaconda3\\envs\\zinet\\lib\\site-packages (from md2pdf) (0.6.2)\n",
      "Requirement already satisfied: WeasyPrint in c:\\users\\p2p2l\\anaconda3\\envs\\zinet\\lib\\site-packages (from md2pdf) (63.1)\n",
      "Requirement already satisfied: pydyf>=0.11.0 in c:\\users\\p2p2l\\anaconda3\\envs\\zinet\\lib\\site-packages (from WeasyPrint->md2pdf) (0.11.0)\n",
      "Requirement already satisfied: cffi>=0.6 in c:\\users\\p2p2l\\anaconda3\\envs\\zinet\\lib\\site-packages (from WeasyPrint->md2pdf) (1.17.1)\n",
      "Requirement already satisfied: tinyhtml5>=2.0.0b1 in c:\\users\\p2p2l\\anaconda3\\envs\\zinet\\lib\\site-packages (from WeasyPrint->md2pdf) (2.0.0)\n",
      "Requirement already satisfied: tinycss2>=1.4.0 in c:\\users\\p2p2l\\anaconda3\\envs\\zinet\\lib\\site-packages (from WeasyPrint->md2pdf) (1.4.0)\n",
      "Requirement already satisfied: cssselect2>=0.1 in c:\\users\\p2p2l\\anaconda3\\envs\\zinet\\lib\\site-packages (from WeasyPrint->md2pdf) (0.7.0)\n",
      "Requirement already satisfied: Pyphen>=0.9.1 in c:\\users\\p2p2l\\anaconda3\\envs\\zinet\\lib\\site-packages (from WeasyPrint->md2pdf) (0.17.0)\n",
      "Requirement already satisfied: Pillow>=9.1.0 in c:\\users\\p2p2l\\anaconda3\\envs\\zinet\\lib\\site-packages (from WeasyPrint->md2pdf) (11.0.0)\n",
      "Requirement already satisfied: fonttools>=4.0.0 in c:\\users\\p2p2l\\anaconda3\\envs\\zinet\\lib\\site-packages (from fonttools[woff]>=4.0.0->WeasyPrint->md2pdf) (4.55.3)\n",
      "Requirement already satisfied: pycparser in c:\\users\\p2p2l\\anaconda3\\envs\\zinet\\lib\\site-packages (from cffi>=0.6->WeasyPrint->md2pdf) (2.22)\n",
      "Requirement already satisfied: webencodings in c:\\users\\p2p2l\\anaconda3\\envs\\zinet\\lib\\site-packages (from cssselect2>=0.1->WeasyPrint->md2pdf) (0.5.1)\n",
      "Requirement already satisfied: brotli>=1.0.1 in c:\\users\\p2p2l\\anaconda3\\envs\\zinet\\lib\\site-packages (from fonttools[woff]>=4.0.0->WeasyPrint->md2pdf) (1.1.0)\n",
      "Requirement already satisfied: zopfli>=0.1.4 in c:\\users\\p2p2l\\anaconda3\\envs\\zinet\\lib\\site-packages (from fonttools[woff]>=4.0.0->WeasyPrint->md2pdf) (0.2.3.post1)\n"
     ]
    }
   ],
   "source": [
    "!pip install md2pdf"
   ]
  },
  {
   "cell_type": "code",
   "execution_count": 3,
   "id": "ffb65438",
   "metadata": {},
   "outputs": [
    {
     "ename": "ModuleNotFoundError",
     "evalue": "No module named 'md2pdf'",
     "output_type": "error",
     "traceback": [
      "\u001b[1;31m---------------------------------------------------------------------------\u001b[0m",
      "\u001b[1;31mModuleNotFoundError\u001b[0m                       Traceback (most recent call last)",
      "\u001b[1;32m~\\AppData\\Local\\Temp\\ipykernel_8636\\3962434853.py\u001b[0m in \u001b[0;36m<module>\u001b[1;34m\u001b[0m\n\u001b[1;32m----> 1\u001b[1;33m \u001b[1;32mfrom\u001b[0m \u001b[0mmd2pdf\u001b[0m\u001b[1;33m.\u001b[0m\u001b[0mcore\u001b[0m \u001b[1;32mimport\u001b[0m \u001b[0mmd2pdf\u001b[0m\u001b[1;33m\u001b[0m\u001b[1;33m\u001b[0m\u001b[0m\n\u001b[0m",
      "\u001b[1;31mModuleNotFoundError\u001b[0m: No module named 'md2pdf'"
     ]
    }
   ],
   "source": [
    "from md2pdf.core import md2pdf"
   ]
  },
  {
   "cell_type": "code",
   "execution_count": null,
   "id": "23f95773",
   "metadata": {},
   "outputs": [],
   "source": [
    "file_pdf = \"zinets-v0.5.pdf\"\n",
    "file_md = \"analyzing-chinese-characters-via-physics-lens-v0.5.md\"\n",
    "md2pdf(file_pdf, file_md)"
   ]
  }
 ],
 "metadata": {
  "kernelspec": {
   "display_name": "Python 3 (ipykernel)",
   "language": "python",
   "name": "python3"
  },
  "language_info": {
   "codemirror_mode": {
    "name": "ipython",
    "version": 3
   },
   "file_extension": ".py",
   "mimetype": "text/x-python",
   "name": "python",
   "nbconvert_exporter": "python",
   "pygments_lexer": "ipython3",
   "version": "3.9.13"
  },
  "nbTranslate": {
   "displayLangs": [
    "*"
   ],
   "hotkey": "alt-t",
   "langInMainMenu": true,
   "sourceLang": "en",
   "targetLang": "fr",
   "useGoogleTranslate": true
  },
  "toc": {
   "base_numbering": 1,
   "nav_menu": {},
   "number_sections": true,
   "sideBar": true,
   "skip_h1_title": false,
   "title_cell": "Table of Contents",
   "title_sidebar": "Contents",
   "toc_cell": false,
   "toc_position": {},
   "toc_section_display": true,
   "toc_window_display": false
  }
 },
 "nbformat": 4,
 "nbformat_minor": 5
}
